{
  "nbformat": 4,
  "nbformat_minor": 0,
  "metadata": {
    "colab": {
      "name": "logistic_regression-indepth.ipynb",
      "provenance": [],
      "collapsed_sections": [],
      "authorship_tag": "ABX9TyPpYRQE8UKF1H5doxXCQjjj",
      "include_colab_link": true
    },
    "kernelspec": {
      "name": "python3",
      "display_name": "Python 3"
    }
  },
  "cells": [
    {
      "cell_type": "markdown",
      "metadata": {
        "id": "view-in-github",
        "colab_type": "text"
      },
      "source": [
        "<a href=\"https://colab.research.google.com/github/ashutosh3060/ml-algorithms/blob/master/logistic_regression_indepth.ipynb\" target=\"_parent\"><img src=\"https://colab.research.google.com/assets/colab-badge.svg\" alt=\"Open In Colab\"/></a>"
      ]
    },
    {
      "cell_type": "markdown",
      "metadata": {
        "id": "br3eKBYVlEZI",
        "colab_type": "text"
      },
      "source": [
        "## Table of Contents:"
      ]
    },
    {
      "cell_type": "code",
      "metadata": {
        "id": "Yaq_SMF0lIF0",
        "colab_type": "code",
        "colab": {}
      },
      "source": [
        ""
      ],
      "execution_count": null,
      "outputs": []
    },
    {
      "cell_type": "markdown",
      "metadata": {
        "id": "2tKAhaYKlL5I",
        "colab_type": "text"
      },
      "source": [
        "## Libraries"
      ]
    },
    {
      "cell_type": "code",
      "metadata": {
        "id": "iC3K-li-lKpv",
        "colab_type": "code",
        "colab": {}
      },
      "source": [
        "## Python Basic\n",
        "import numpy as np\n",
        "import pandas as pd\n",
        "\n",
        "# Visualization\n",
        "import matplotlib.pyplot as plt\n",
        "import seaborn as sns\n",
        "\n",
        "# sklearn\n",
        "from sklearn.linear_model import LogisticRegression\n",
        "from sklearn import metrics\n",
        "from sklearn.model_selection import train_test_split\n",
        "\n",
        "# warning\n",
        "import warnings\n",
        "warnings.filterwarnings('ignore')"
      ],
      "execution_count": 37,
      "outputs": []
    },
    {
      "cell_type": "code",
      "metadata": {
        "id": "5gSpH4NllKrs",
        "colab_type": "code",
        "colab": {}
      },
      "source": [
        ""
      ],
      "execution_count": 1,
      "outputs": []
    },
    {
      "cell_type": "markdown",
      "metadata": {
        "id": "TgUJ1fbfCVgW",
        "colab_type": "text"
      },
      "source": [
        "### Import Data and Basic Exploration"
      ]
    },
    {
      "cell_type": "code",
      "metadata": {
        "id": "aTuH3S7hlKvn",
        "colab_type": "code",
        "colab": {}
      },
      "source": [
        "# Import Data\n",
        "\n",
        "df_drug = pd.read_csv(\"/content/drug200.csv\")"
      ],
      "execution_count": 2,
      "outputs": []
    },
    {
      "cell_type": "code",
      "metadata": {
        "id": "6JQJa1-GlKxt",
        "colab_type": "code",
        "colab": {
          "base_uri": "https://localhost:8080/",
          "height": 219
        },
        "outputId": "4e4718b8-c43b-4938-df4e-23d357ff78e0"
      },
      "source": [
        "print(df_drug.shape)\n",
        "df_drug.head()"
      ],
      "execution_count": 6,
      "outputs": [
        {
          "output_type": "stream",
          "text": [
            "(200, 6)\n"
          ],
          "name": "stdout"
        },
        {
          "output_type": "execute_result",
          "data": {
            "text/html": [
              "<div>\n",
              "<style scoped>\n",
              "    .dataframe tbody tr th:only-of-type {\n",
              "        vertical-align: middle;\n",
              "    }\n",
              "\n",
              "    .dataframe tbody tr th {\n",
              "        vertical-align: top;\n",
              "    }\n",
              "\n",
              "    .dataframe thead th {\n",
              "        text-align: right;\n",
              "    }\n",
              "</style>\n",
              "<table border=\"1\" class=\"dataframe\">\n",
              "  <thead>\n",
              "    <tr style=\"text-align: right;\">\n",
              "      <th></th>\n",
              "      <th>Age</th>\n",
              "      <th>Sex</th>\n",
              "      <th>BP</th>\n",
              "      <th>Cholesterol</th>\n",
              "      <th>Na_to_K</th>\n",
              "      <th>Drug</th>\n",
              "    </tr>\n",
              "  </thead>\n",
              "  <tbody>\n",
              "    <tr>\n",
              "      <th>0</th>\n",
              "      <td>23</td>\n",
              "      <td>F</td>\n",
              "      <td>HIGH</td>\n",
              "      <td>HIGH</td>\n",
              "      <td>25.355</td>\n",
              "      <td>DrugY</td>\n",
              "    </tr>\n",
              "    <tr>\n",
              "      <th>1</th>\n",
              "      <td>47</td>\n",
              "      <td>M</td>\n",
              "      <td>LOW</td>\n",
              "      <td>HIGH</td>\n",
              "      <td>13.093</td>\n",
              "      <td>drugC</td>\n",
              "    </tr>\n",
              "    <tr>\n",
              "      <th>2</th>\n",
              "      <td>47</td>\n",
              "      <td>M</td>\n",
              "      <td>LOW</td>\n",
              "      <td>HIGH</td>\n",
              "      <td>10.114</td>\n",
              "      <td>drugC</td>\n",
              "    </tr>\n",
              "    <tr>\n",
              "      <th>3</th>\n",
              "      <td>28</td>\n",
              "      <td>F</td>\n",
              "      <td>NORMAL</td>\n",
              "      <td>HIGH</td>\n",
              "      <td>7.798</td>\n",
              "      <td>drugX</td>\n",
              "    </tr>\n",
              "    <tr>\n",
              "      <th>4</th>\n",
              "      <td>61</td>\n",
              "      <td>F</td>\n",
              "      <td>LOW</td>\n",
              "      <td>HIGH</td>\n",
              "      <td>18.043</td>\n",
              "      <td>DrugY</td>\n",
              "    </tr>\n",
              "  </tbody>\n",
              "</table>\n",
              "</div>"
            ],
            "text/plain": [
              "   Age Sex      BP Cholesterol  Na_to_K   Drug\n",
              "0   23   F    HIGH        HIGH   25.355  DrugY\n",
              "1   47   M     LOW        HIGH   13.093  drugC\n",
              "2   47   M     LOW        HIGH   10.114  drugC\n",
              "3   28   F  NORMAL        HIGH    7.798  drugX\n",
              "4   61   F     LOW        HIGH   18.043  DrugY"
            ]
          },
          "metadata": {
            "tags": []
          },
          "execution_count": 6
        }
      ]
    },
    {
      "cell_type": "code",
      "metadata": {
        "id": "diocnHTXlKzi",
        "colab_type": "code",
        "colab": {
          "base_uri": "https://localhost:8080/",
          "height": 52
        },
        "outputId": "6d4c5320-b7de-49b6-8b9a-6eabdd2d4ccc"
      },
      "source": [
        "# Unique target values\n",
        "print(df_drug.Drug.nunique())\n",
        "df_drug.Drug.unique()"
      ],
      "execution_count": 7,
      "outputs": [
        {
          "output_type": "stream",
          "text": [
            "5\n"
          ],
          "name": "stdout"
        },
        {
          "output_type": "execute_result",
          "data": {
            "text/plain": [
              "array(['DrugY', 'drugC', 'drugX', 'drugA', 'drugB'], dtype=object)"
            ]
          },
          "metadata": {
            "tags": []
          },
          "execution_count": 7
        }
      ]
    },
    {
      "cell_type": "code",
      "metadata": {
        "id": "L4UskAjblK1f",
        "colab_type": "code",
        "colab": {
          "base_uri": "https://localhost:8080/",
          "height": 297
        },
        "outputId": "6ab0ef51-961f-4ed4-ade2-1611213d8adc"
      },
      "source": [
        "sns.countplot(x=\"Drug\", data=df_drug, palette='hls')"
      ],
      "execution_count": 8,
      "outputs": [
        {
          "output_type": "execute_result",
          "data": {
            "text/plain": [
              "<matplotlib.axes._subplots.AxesSubplot at 0x7fc7c91d3898>"
            ]
          },
          "metadata": {
            "tags": []
          },
          "execution_count": 8
        },
        {
          "output_type": "display_data",
          "data": {
            "image/png": "[encoded data removed]",
            "text/plain": [
              "<Figure size 432x288 with 1 Axes>"
            ]
          },
          "metadata": {
            "tags": [],
            "needs_background": "light"
          }
        }
      ]
    },
    {
      "cell_type": "markdown",
      "metadata": {
        "id": "hgh5gRE8VqCF",
        "colab_type": "text"
      },
      "source": [
        "### EDA"
      ]
    },
    {
      "cell_type": "code",
      "metadata": {
        "id": "F6Fy-PyuTx0K",
        "colab_type": "code",
        "colab": {}
      },
      "source": [
        ""
      ],
      "execution_count": null,
      "outputs": []
    },
    {
      "cell_type": "markdown",
      "metadata": {
        "id": "drO98HmLV2A5",
        "colab_type": "text"
      },
      "source": [
        "###  New Feature Creation"
      ]
    },
    {
      "cell_type": "markdown",
      "metadata": {
        "id": "b6k6C89kjCVG",
        "colab_type": "text"
      },
      "source": [
        "#### Create an Id for each record (Assumption: Each record is for a patient)"
      ]
    },
    {
      "cell_type": "code",
      "metadata": {
        "id": "V5uBJfvftrBa",
        "colab_type": "code",
        "colab": {
          "base_uri": "https://localhost:8080/",
          "height": 110
        },
        "outputId": "f15536bf-1eb3-4260-9656-223734e3542b"
      },
      "source": [
        "## Rename columns to Lower case\n",
        "df_drug.columns= df_drug.columns.str.lower()\n",
        "df_drug.head(2)"
      ],
      "execution_count": 21,
      "outputs": [
        {
          "output_type": "execute_result",
          "data": {
            "text/html": [
              "<div>\n",
              "<style scoped>\n",
              "    .dataframe tbody tr th:only-of-type {\n",
              "        vertical-align: middle;\n",
              "    }\n",
              "\n",
              "    .dataframe tbody tr th {\n",
              "        vertical-align: top;\n",
              "    }\n",
              "\n",
              "    .dataframe thead th {\n",
              "        text-align: right;\n",
              "    }\n",
              "</style>\n",
              "<table border=\"1\" class=\"dataframe\">\n",
              "  <thead>\n",
              "    <tr style=\"text-align: right;\">\n",
              "      <th></th>\n",
              "      <th>patient_id</th>\n",
              "      <th>age</th>\n",
              "      <th>sex</th>\n",
              "      <th>bp</th>\n",
              "      <th>cholesterol</th>\n",
              "      <th>na_to_k</th>\n",
              "      <th>drug</th>\n",
              "    </tr>\n",
              "  </thead>\n",
              "  <tbody>\n",
              "    <tr>\n",
              "      <th>0</th>\n",
              "      <td>1</td>\n",
              "      <td>23</td>\n",
              "      <td>F</td>\n",
              "      <td>HIGH</td>\n",
              "      <td>HIGH</td>\n",
              "      <td>25.355</td>\n",
              "      <td>DrugY</td>\n",
              "    </tr>\n",
              "    <tr>\n",
              "      <th>1</th>\n",
              "      <td>2</td>\n",
              "      <td>47</td>\n",
              "      <td>M</td>\n",
              "      <td>LOW</td>\n",
              "      <td>HIGH</td>\n",
              "      <td>13.093</td>\n",
              "      <td>drugC</td>\n",
              "    </tr>\n",
              "  </tbody>\n",
              "</table>\n",
              "</div>"
            ],
            "text/plain": [
              "   patient_id  age sex    bp cholesterol  na_to_k   drug\n",
              "0           1   23   F  HIGH        HIGH   25.355  DrugY\n",
              "1           2   47   M   LOW        HIGH   13.093  drugC"
            ]
          },
          "metadata": {
            "tags": []
          },
          "execution_count": 21
        }
      ]
    },
    {
      "cell_type": "code",
      "metadata": {
        "id": "Ju0TR2z3mTTm",
        "colab_type": "code",
        "colab": {
          "base_uri": "https://localhost:8080/",
          "height": 202
        },
        "outputId": "12dde8d0-836f-4524-a0e2-7a27e0436890"
      },
      "source": [
        "# Create 'patient_id' column for unique identifier for each patient.\n",
        "\n",
        "df_drug.drop(columns=[\"patient_id\"], axis=1, inplace=True)\n",
        "idx = 0\n",
        "new_col = range(1, len(df_drug)+1)\n",
        "df_drug.insert(loc=idx, column=\"patient_id\", value=new_col)\n",
        "\n",
        "# Create a column for Binary target\n",
        "'''\n",
        "If drug=='drugY' then 1 else 0\n",
        "'''\n",
        "df_drug[\"drug_y\"] = np.where(df_drug[\"drug\"].str.lower()==\"drugy\", 1, 0)\n",
        "df_drug.head()"
      ],
      "execution_count": 25,
      "outputs": [
        {
          "output_type": "execute_result",
          "data": {
            "text/html": [
              "<div>\n",
              "<style scoped>\n",
              "    .dataframe tbody tr th:only-of-type {\n",
              "        vertical-align: middle;\n",
              "    }\n",
              "\n",
              "    .dataframe tbody tr th {\n",
              "        vertical-align: top;\n",
              "    }\n",
              "\n",
              "    .dataframe thead th {\n",
              "        text-align: right;\n",
              "    }\n",
              "</style>\n",
              "<table border=\"1\" class=\"dataframe\">\n",
              "  <thead>\n",
              "    <tr style=\"text-align: right;\">\n",
              "      <th></th>\n",
              "      <th>patient_id</th>\n",
              "      <th>age</th>\n",
              "      <th>sex</th>\n",
              "      <th>bp</th>\n",
              "      <th>cholesterol</th>\n",
              "      <th>na_to_k</th>\n",
              "      <th>drug</th>\n",
              "      <th>drug_y</th>\n",
              "    </tr>\n",
              "  </thead>\n",
              "  <tbody>\n",
              "    <tr>\n",
              "      <th>0</th>\n",
              "      <td>1</td>\n",
              "      <td>23</td>\n",
              "      <td>F</td>\n",
              "      <td>HIGH</td>\n",
              "      <td>HIGH</td>\n",
              "      <td>25.355</td>\n",
              "      <td>DrugY</td>\n",
              "      <td>1</td>\n",
              "    </tr>\n",
              "    <tr>\n",
              "      <th>1</th>\n",
              "      <td>2</td>\n",
              "      <td>47</td>\n",
              "      <td>M</td>\n",
              "      <td>LOW</td>\n",
              "      <td>HIGH</td>\n",
              "      <td>13.093</td>\n",
              "      <td>drugC</td>\n",
              "      <td>0</td>\n",
              "    </tr>\n",
              "    <tr>\n",
              "      <th>2</th>\n",
              "      <td>3</td>\n",
              "      <td>47</td>\n",
              "      <td>M</td>\n",
              "      <td>LOW</td>\n",
              "      <td>HIGH</td>\n",
              "      <td>10.114</td>\n",
              "      <td>drugC</td>\n",
              "      <td>0</td>\n",
              "    </tr>\n",
              "    <tr>\n",
              "      <th>3</th>\n",
              "      <td>4</td>\n",
              "      <td>28</td>\n",
              "      <td>F</td>\n",
              "      <td>NORMAL</td>\n",
              "      <td>HIGH</td>\n",
              "      <td>7.798</td>\n",
              "      <td>drugX</td>\n",
              "      <td>0</td>\n",
              "    </tr>\n",
              "    <tr>\n",
              "      <th>4</th>\n",
              "      <td>5</td>\n",
              "      <td>61</td>\n",
              "      <td>F</td>\n",
              "      <td>LOW</td>\n",
              "      <td>HIGH</td>\n",
              "      <td>18.043</td>\n",
              "      <td>DrugY</td>\n",
              "      <td>1</td>\n",
              "    </tr>\n",
              "  </tbody>\n",
              "</table>\n",
              "</div>"
            ],
            "text/plain": [
              "   patient_id  age sex      bp cholesterol  na_to_k   drug  drug_y\n",
              "0           1   23   F    HIGH        HIGH   25.355  DrugY       1\n",
              "1           2   47   M     LOW        HIGH   13.093  drugC       0\n",
              "2           3   47   M     LOW        HIGH   10.114  drugC       0\n",
              "3           4   28   F  NORMAL        HIGH    7.798  drugX       0\n",
              "4           5   61   F     LOW        HIGH   18.043  DrugY       1"
            ]
          },
          "metadata": {
            "tags": []
          },
          "execution_count": 25
        }
      ]
    },
    {
      "cell_type": "code",
      "metadata": {
        "id": "kdf5_4pksqQx",
        "colab_type": "code",
        "colab": {
          "base_uri": "https://localhost:8080/",
          "height": 297
        },
        "outputId": "e8c2382a-d686-4c02-975b-941d6eaa5cce"
      },
      "source": [
        "sns.countplot(x=\"drug_y\", data=df_drug, palette='hls')"
      ],
      "execution_count": 28,
      "outputs": [
        {
          "output_type": "execute_result",
          "data": {
            "text/plain": [
              "<matplotlib.axes._subplots.AxesSubplot at 0x7fc7c0dd6828>"
            ]
          },
          "metadata": {
            "tags": []
          },
          "execution_count": 28
        },
        {
          "output_type": "display_data",
          "data": {
            "image/png": "[encoded data removed]",
            "text/plain": [
              "<Figure size 432x288 with 1 Axes>"
            ]
          },
          "metadata": {
            "tags": [],
            "needs_background": "light"
          }
        }
      ]
    },
    {
      "cell_type": "markdown",
      "metadata": {
        "id": "GyDEQ9X50bgv",
        "colab_type": "text"
      },
      "source": [
        "#### Create Dummy Categorical Variables"
      ]
    },
    {
      "cell_type": "code",
      "metadata": {
        "id": "_R33d6D-sqUQ",
        "colab_type": "code",
        "colab": {
          "base_uri": "https://localhost:8080/",
          "height": 139
        },
        "outputId": "4fd00708-1d75-4173-d53b-603a6d170262"
      },
      "source": [
        "cat_vars=['sex','bp','cholesterol']\n",
        "for var in cat_vars:\n",
        "    cat_list='var'+'_'+var\n",
        "    cat_list = pd.get_dummies(df_drug[var], prefix=var)\n",
        "    data1=df_drug.join(cat_list)\n",
        "    data = data1\n",
        "cat_vars=['sex','bp','cholesterol']\n",
        "data_vars=data.columns.values.tolist()\n",
        "to_keep=[i for i in data_vars if i not in cat_vars]\n",
        "to_keep"
      ],
      "execution_count": 44,
      "outputs": [
        {
          "output_type": "execute_result",
          "data": {
            "text/plain": [
              "['patient_id',\n",
              " 'age',\n",
              " 'na_to_k',\n",
              " 'drug',\n",
              " 'drug_y',\n",
              " 'cholesterol_HIGH',\n",
              " 'cholesterol_NORMAL']"
            ]
          },
          "metadata": {
            "tags": []
          },
          "execution_count": 44
        }
      ]
    },
    {
      "cell_type": "markdown",
      "metadata": {
        "id": "QjIJOT6dxzaQ",
        "colab_type": "text"
      },
      "source": [
        "## Data Preparation for Moldel Build"
      ]
    },
    {
      "cell_type": "code",
      "metadata": {
        "id": "0n6hWkQRyOMz",
        "colab_type": "code",
        "colab": {}
      },
      "source": [
        "cols = [\"age\", \"sex\", \"bp\", \"cholesterol\", \"na_to_k\"] \n",
        "X = df_drug[cols]\n",
        "y = df_drug['drug_y']"
      ],
      "execution_count": 32,
      "outputs": []
    },
    {
      "cell_type": "code",
      "metadata": {
        "id": "aGTvbWEfvyjQ",
        "colab_type": "code",
        "colab": {}
      },
      "source": [
        "# Training and Validation Split\n",
        "X_train, X_val, y_train, y_val = train_test_split(X, y, test_size=0.3, random_state=12)"
      ],
      "execution_count": 38,
      "outputs": []
    },
    {
      "cell_type": "code",
      "metadata": {
        "id": "5ig72RTBpYip",
        "colab_type": "code",
        "colab": {
          "base_uri": "https://localhost:8080/",
          "height": 35
        },
        "outputId": "4a539a50-5287-4773-895e-c860b78624f7"
      },
      "source": [
        "print(f'test for print')"
      ],
      "execution_count": 45,
      "outputs": [
        {
          "output_type": "stream",
          "text": [
            "test for print\n"
          ],
          "name": "stdout"
        }
      ]
    },
    {
      "cell_type": "code",
      "metadata": {
        "id": "Pr8J3P8dpc7g",
        "colab_type": "code",
        "colab": {}
      },
      "source": [
        "print(f'test for print')"
      ],
      "execution_count": null,
      "outputs": []
    },
    {
      "cell_type": "markdown",
      "metadata": {
        "id": "AOMwUpERV6N8",
        "colab_type": "text"
      },
      "source": [
        "### Logistic Regression Model Build"
      ]
    },
    {
      "cell_type": "code",
      "metadata": {
        "id": "oFnp0bK5yHjZ",
        "colab_type": "code",
        "colab": {
          "base_uri": "https://localhost:8080/",
          "height": 329
        },
        "outputId": "669bd968-29d0-430b-e596-08908573907e"
      },
      "source": [
        "logreg = LogisticRegression()\n",
        "logreg.fit(X_train, y_train)"
      ],
      "execution_count": 39,
      "outputs": [
        {
          "output_type": "error",
          "ename": "ValueError",
          "evalue": "ignored",
          "traceback": [
            "\u001b[0;31m---------------------------------------------------------------------------\u001b[0m",
            "\u001b[0;31mValueError\u001b[0m                                Traceback (most recent call last)",
            "\u001b[0;32m<ipython-input-39-c61699e43268>\u001b[0m in \u001b[0;36m<module>\u001b[0;34m()\u001b[0m\n\u001b[1;32m      1\u001b[0m \u001b[0mlogreg\u001b[0m \u001b[0;34m=\u001b[0m \u001b[0mLogisticRegression\u001b[0m\u001b[0;34m(\u001b[0m\u001b[0;34m)\u001b[0m\u001b[0;34m\u001b[0m\u001b[0;34m\u001b[0m\u001b[0m\n\u001b[0;32m----> 2\u001b[0;31m \u001b[0mlogreg\u001b[0m\u001b[0;34m.\u001b[0m\u001b[0mfit\u001b[0m\u001b[0;34m(\u001b[0m\u001b[0mX_train\u001b[0m\u001b[0;34m,\u001b[0m \u001b[0my_train\u001b[0m\u001b[0;34m)\u001b[0m\u001b[0;34m\u001b[0m\u001b[0;34m\u001b[0m\u001b[0m\n\u001b[0m",
            "\u001b[0;32m/usr/local/lib/python3.6/dist-packages/sklearn/linear_model/_logistic.py\u001b[0m in \u001b[0;36mfit\u001b[0;34m(self, X, y, sample_weight)\u001b[0m\n\u001b[1;32m   1525\u001b[0m \u001b[0;34m\u001b[0m\u001b[0m\n\u001b[1;32m   1526\u001b[0m         X, y = check_X_y(X, y, accept_sparse='csr', dtype=_dtype, order=\"C\",\n\u001b[0;32m-> 1527\u001b[0;31m                          accept_large_sparse=solver != 'liblinear')\n\u001b[0m\u001b[1;32m   1528\u001b[0m         \u001b[0mcheck_classification_targets\u001b[0m\u001b[0;34m(\u001b[0m\u001b[0my\u001b[0m\u001b[0;34m)\u001b[0m\u001b[0;34m\u001b[0m\u001b[0;34m\u001b[0m\u001b[0m\n\u001b[1;32m   1529\u001b[0m         \u001b[0mself\u001b[0m\u001b[0;34m.\u001b[0m\u001b[0mclasses_\u001b[0m \u001b[0;34m=\u001b[0m \u001b[0mnp\u001b[0m\u001b[0;34m.\u001b[0m\u001b[0munique\u001b[0m\u001b[0;34m(\u001b[0m\u001b[0my\u001b[0m\u001b[0;34m)\u001b[0m\u001b[0;34m\u001b[0m\u001b[0;34m\u001b[0m\u001b[0m\n",
            "\u001b[0;32m/usr/local/lib/python3.6/dist-packages/sklearn/utils/validation.py\u001b[0m in \u001b[0;36mcheck_X_y\u001b[0;34m(X, y, accept_sparse, accept_large_sparse, dtype, order, copy, force_all_finite, ensure_2d, allow_nd, multi_output, ensure_min_samples, ensure_min_features, y_numeric, warn_on_dtype, estimator)\u001b[0m\n\u001b[1;32m    753\u001b[0m                     \u001b[0mensure_min_features\u001b[0m\u001b[0;34m=\u001b[0m\u001b[0mensure_min_features\u001b[0m\u001b[0;34m,\u001b[0m\u001b[0;34m\u001b[0m\u001b[0;34m\u001b[0m\u001b[0m\n\u001b[1;32m    754\u001b[0m                     \u001b[0mwarn_on_dtype\u001b[0m\u001b[0;34m=\u001b[0m\u001b[0mwarn_on_dtype\u001b[0m\u001b[0;34m,\u001b[0m\u001b[0;34m\u001b[0m\u001b[0;34m\u001b[0m\u001b[0m\n\u001b[0;32m--> 755\u001b[0;31m                     estimator=estimator)\n\u001b[0m\u001b[1;32m    756\u001b[0m     \u001b[0;32mif\u001b[0m \u001b[0mmulti_output\u001b[0m\u001b[0;34m:\u001b[0m\u001b[0;34m\u001b[0m\u001b[0;34m\u001b[0m\u001b[0m\n\u001b[1;32m    757\u001b[0m         y = check_array(y, 'csr', force_all_finite=True, ensure_2d=False,\n",
            "\u001b[0;32m/usr/local/lib/python3.6/dist-packages/sklearn/utils/validation.py\u001b[0m in \u001b[0;36mcheck_array\u001b[0;34m(array, accept_sparse, accept_large_sparse, dtype, order, copy, force_all_finite, ensure_2d, allow_nd, ensure_min_samples, ensure_min_features, warn_on_dtype, estimator)\u001b[0m\n\u001b[1;32m    529\u001b[0m                     \u001b[0marray\u001b[0m \u001b[0;34m=\u001b[0m \u001b[0marray\u001b[0m\u001b[0;34m.\u001b[0m\u001b[0mastype\u001b[0m\u001b[0;34m(\u001b[0m\u001b[0mdtype\u001b[0m\u001b[0;34m,\u001b[0m \u001b[0mcasting\u001b[0m\u001b[0;34m=\u001b[0m\u001b[0;34m\"unsafe\"\u001b[0m\u001b[0;34m,\u001b[0m \u001b[0mcopy\u001b[0m\u001b[0;34m=\u001b[0m\u001b[0;32mFalse\u001b[0m\u001b[0;34m)\u001b[0m\u001b[0;34m\u001b[0m\u001b[0;34m\u001b[0m\u001b[0m\n\u001b[1;32m    530\u001b[0m                 \u001b[0;32melse\u001b[0m\u001b[0;34m:\u001b[0m\u001b[0;34m\u001b[0m\u001b[0;34m\u001b[0m\u001b[0m\n\u001b[0;32m--> 531\u001b[0;31m                     \u001b[0marray\u001b[0m \u001b[0;34m=\u001b[0m \u001b[0mnp\u001b[0m\u001b[0;34m.\u001b[0m\u001b[0masarray\u001b[0m\u001b[0;34m(\u001b[0m\u001b[0marray\u001b[0m\u001b[0;34m,\u001b[0m \u001b[0morder\u001b[0m\u001b[0;34m=\u001b[0m\u001b[0morder\u001b[0m\u001b[0;34m,\u001b[0m \u001b[0mdtype\u001b[0m\u001b[0;34m=\u001b[0m\u001b[0mdtype\u001b[0m\u001b[0;34m)\u001b[0m\u001b[0;34m\u001b[0m\u001b[0;34m\u001b[0m\u001b[0m\n\u001b[0m\u001b[1;32m    532\u001b[0m             \u001b[0;32mexcept\u001b[0m \u001b[0mComplexWarning\u001b[0m\u001b[0;34m:\u001b[0m\u001b[0;34m\u001b[0m\u001b[0;34m\u001b[0m\u001b[0m\n\u001b[1;32m    533\u001b[0m                 raise ValueError(\"Complex data not supported\\n\"\n",
            "\u001b[0;32m/usr/local/lib/python3.6/dist-packages/numpy/core/_asarray.py\u001b[0m in \u001b[0;36masarray\u001b[0;34m(a, dtype, order)\u001b[0m\n\u001b[1;32m     83\u001b[0m \u001b[0;34m\u001b[0m\u001b[0m\n\u001b[1;32m     84\u001b[0m     \"\"\"\n\u001b[0;32m---> 85\u001b[0;31m     \u001b[0;32mreturn\u001b[0m \u001b[0marray\u001b[0m\u001b[0;34m(\u001b[0m\u001b[0ma\u001b[0m\u001b[0;34m,\u001b[0m \u001b[0mdtype\u001b[0m\u001b[0;34m,\u001b[0m \u001b[0mcopy\u001b[0m\u001b[0;34m=\u001b[0m\u001b[0;32mFalse\u001b[0m\u001b[0;34m,\u001b[0m \u001b[0morder\u001b[0m\u001b[0;34m=\u001b[0m\u001b[0morder\u001b[0m\u001b[0;34m)\u001b[0m\u001b[0;34m\u001b[0m\u001b[0;34m\u001b[0m\u001b[0m\n\u001b[0m\u001b[1;32m     86\u001b[0m \u001b[0;34m\u001b[0m\u001b[0m\n\u001b[1;32m     87\u001b[0m \u001b[0;34m\u001b[0m\u001b[0m\n",
            "\u001b[0;31mValueError\u001b[0m: could not convert string to float: 'NORMAL'"
          ]
        }
      ]
    },
    {
      "cell_type": "code",
      "metadata": {
        "id": "pMo5ccRVyHnS",
        "colab_type": "code",
        "colab": {}
      },
      "source": [
        ""
      ],
      "execution_count": null,
      "outputs": []
    },
    {
      "cell_type": "code",
      "metadata": {
        "id": "9fn9QH2nyHxD",
        "colab_type": "code",
        "colab": {}
      },
      "source": [
        ""
      ],
      "execution_count": null,
      "outputs": []
    },
    {
      "cell_type": "code",
      "metadata": {
        "id": "H5RK_xPYV-iD",
        "colab_type": "code",
        "colab": {}
      },
      "source": [
        "logreg = LogisticRegression()"
      ],
      "execution_count": 18,
      "outputs": []
    },
    {
      "cell_type": "markdown",
      "metadata": {
        "id": "P5-qLY69W2ym",
        "colab_type": "text"
      },
      "source": [
        "LogisticRegression(penalty='l2', dual=False, tol=0.0001, C=1.0, fit_intercept=True, intercept_scaling=1, class_weight=None, random_state=None, solver='lbfgs', max_iter=100, multi_class='auto', verbose=0, warm_start=False, n_jobs=None, l1_ratio=None)\n",
        "\n",
        "Logistic Regression (aka logit, MaxEnt) classifier.\n",
        "\n",
        "In the multiclass case, the training algorithm uses the one-vs-rest (OvR) scheme if the 'multi_class' option is set to 'ovr', and uses the cross-entropy loss if the 'multi_class' option is set to 'multinomial'. (Currently the 'multinomial' option is supported only by the 'lbfgs', 'sag', 'saga' and 'newton-cg' solvers.)\n",
        "\n",
        "This class implements regularized logistic regression using the 'liblinear' library, 'newton-cg', 'sag', 'saga' and 'lbfgs' solvers. **Note that regularization is applied by default**. It can handle both dense and sparse input. Use C-ordered arrays or CSR matrices containing 64-bit floats for optimal performance; any other input format will be converted (and copied).\n",
        "\n",
        "The 'newton-cg', 'sag', and 'lbfgs' solvers support only L2 regularization with primal formulation, or no regularization. The 'liblinear' solver supports both L1 and L2 regularization, with a dual formulation only for the L2 penalty. The Elastic-Net regularization is only supported by the 'saga' solver.\n",
        "\n",
        "Read more in the :ref:User Guide <logistic_regression>.\n",
        "\n",
        "Parameters\n",
        "penalty : {'l1', 'l2', 'elasticnet', 'none'}, default='l2'\n",
        "\n",
        "    Used to specify the norm used in the penalization. The 'newton-cg',  \n",
        "    'sag' and 'lbfgs' solvers support only l2 penalties. 'elasticnet' is  \n",
        "    only supported by the 'saga' solver. If 'none' (not supported by the  \n",
        "    liblinear solver), no regularization is applied.  \n",
        "\n",
        "       l1 penalty with SAGA solver (allowing 'multinomial' + L1)  \n",
        "dual : bool, default=False\n",
        "\n",
        "    Dual or primal formulation. Dual formulation is only implemented for  \n",
        "    l2 penalty with liblinear solver. Prefer dual=False when  \n",
        "    n_samples   n_features.  \n",
        "tol : float, default=1e-4\n",
        "\n",
        "    Tolerance for stopping criteria.  \n",
        "C : float, default=1.0\n",
        "\n",
        "    Inverse of regularization strength; must be a positive float.  \n",
        "    Like in support vector machines, smaller values specify stronger  \n",
        "    regularization.  \n",
        "fit_intercept : bool, default=True\n",
        "\n",
        "    Specifies if a constant (a.k.a. bias or intercept) should be  \n",
        "    added to the decision function.  \n",
        "intercept_scaling : float, default=1\n",
        "\n",
        "    Useful only when the solver 'liblinear' is used  \n",
        "    and self.fit_intercept is set to True. In this case, x becomes  \n",
        "    [x, self.intercept_scaling],  \n",
        "    i.e. a \"synthetic\" feature with constant value equal to  \n",
        "    intercept_scaling is appended to the instance vector.  \n",
        "    The intercept becomes `intercept_scaling * synthetic_feature_weight`.  \n",
        "\n",
        "    Note! the synthetic feature weight is subject to l1/l2 regularization  \n",
        "    as all other features.  \n",
        "    To lessen the effect of regularization on synthetic feature weight  \n",
        "    (and therefore on the intercept) intercept_scaling has to be increased.  \n",
        "class_weight : dict or 'balanced', default=None\n",
        "\n",
        "    Weights associated with classes in the form `{class_label: weight}`.  \n",
        "    If not given, all classes are supposed to have weight one.  \n",
        "\n",
        "    The \"balanced\" mode uses the values of y to automatically adjust  \n",
        "    weights inversely proportional to class frequencies in the input data  \n",
        "    as `n_samples / (n_classes * np.bincount(y))`.  \n",
        "\n",
        "    Note that these weights will be multiplied with sample_weight (passed  \n",
        "    through the fit method) if sample_weight is specified.  \n",
        "\n",
        "       *class_weight='balanced'*  \n",
        "random_state : int, RandomState instance, default=None\n",
        "\n",
        "    The seed of the pseudo random number generator to use when shuffling  \n",
        "    the data.  If int, random_state is the seed used by the random number  \n",
        "    generator; If RandomState instance, random_state is the random number  \n",
        "    generator; If None, the random number generator is the RandomState  \n",
        "    instance used by `np.random`. Used when `solver` == 'sag' or  \n",
        "    'liblinear'.  \n",
        "solver : {'newton-cg', 'lbfgs', 'liblinear', 'sag', 'saga'}, default='lbfgs'\n",
        "\n",
        "    Algorithm to use in the optimization problem.  \n",
        "\n",
        "    - For small datasets, 'liblinear' is a good choice, whereas 'sag' and  \n",
        "      'saga' are faster for large ones.  \n",
        "    - For multiclass problems, only 'newton-cg', 'sag', 'saga' and 'lbfgs'  \n",
        "      handle multinomial loss; 'liblinear' is limited to one-versus-rest  \n",
        "      schemes.  \n",
        "    - 'newton-cg', 'lbfgs', 'sag' and 'saga' handle L2 or no penalty  \n",
        "    - 'liblinear' and 'saga' also handle L1 penalty  \n",
        "    - 'saga' also supports 'elasticnet' penalty  \n",
        "    - 'liblinear' does not support setting `penalty='none'`  \n",
        "\n",
        "    Note that 'sag' and 'saga' fast convergence is only guaranteed on  \n",
        "    features with approximately the same scale. You can  \n",
        "    preprocess the data with a scaler from sklearn.preprocessing.  \n",
        "\n",
        "       Stochastic Average Gradient descent solver.  \n",
        "       SAGA solver.  \n",
        "        The default solver changed from 'liblinear' to 'lbfgs' in 0.22.  \n",
        "max_iter : int, default=100\n",
        "\n",
        "    Maximum number of iterations taken for the solvers to converge.  \n",
        "multi_class : {'auto', 'ovr', 'multinomial'}, default='auto'\n",
        "\n",
        "    If the option chosen is 'ovr', then a binary problem is fit for each  \n",
        "    label. For 'multinomial' the loss minimised is the multinomial loss fit  \n",
        "    across the entire probability distribution, *even when the data is  \n",
        "    binary*. 'multinomial' is unavailable when solver='liblinear'.  \n",
        "    'auto' selects 'ovr' if the data is binary, or if solver='liblinear',  \n",
        "    and otherwise selects 'multinomial'.  \n",
        "\n",
        "       Stochastic Average Gradient descent solver for 'multinomial' case.  \n",
        "        Default changed from 'ovr' to 'auto' in 0.22.  \n",
        "verbose : int, default=0\n",
        "\n",
        "    For the liblinear and lbfgs solvers set verbose to any positive  \n",
        "    number for verbosity.  \n",
        "warm_start : bool, default=False\n",
        "\n",
        "    When set to True, reuse the solution of the previous call to fit as  \n",
        "    initialization, otherwise, just erase the previous solution.  \n",
        "    Useless for liblinear solver. See :term:`the Glossary  warm_start `.  \n",
        "\n",
        "       *warm_start* to support *lbfgs*, *newton-cg*, *sag*, *saga* solvers.  \n",
        "n_jobs : int, default=None\n",
        "\n",
        "    Number of CPU cores used when parallelizing over classes if  \n",
        "    multi_class='ovr'\". This parameter is ignored when the `solver` is  \n",
        "    set to 'liblinear' regardless of whether 'multi_class' is specified or  \n",
        "    not. `None` means 1 unless in a :obj:`joblib.parallel_backend`  \n",
        "    context. `-1` means using all processors.  \n",
        "    See :term:`Glossary  n_jobs ` for more details.  \n",
        "l1_ratio : float, default=None\n",
        "\n",
        "    The Elastic-Net mixing parameter, with `0  = l1_ratio  = 1`. Only  \n",
        "    used if `penalty='elasticnet'`. Setting `l1_ratio=0` is equivalent  \n",
        "    to using `penalty='l2'`, while setting `l1_ratio=1` is equivalent  \n",
        "    to using `penalty='l1'`. For `0   l1_ratio  1`, the penalty is a  \n",
        "    combination of L1 and L2.  \n",
        "Attributes\n",
        "classes_ : ndarray of shape (n_classes, )\n",
        "\n",
        "    A list of class labels known to the classifier.  \n",
        "coef_ : ndarray of shape (1, n_features) or (n_classes, n_features)\n",
        "\n",
        "    Coefficient of the features in the decision function.  \n",
        "\n",
        "    `coef_` is of shape (1, n_features) when the given problem is binary.  \n",
        "    In particular, when `multi_class='multinomial'`, `coef_` corresponds  \n",
        "    to outcome 1 (True) and `-coef_` corresponds to outcome 0 (False).  \n",
        "intercept_ : ndarray of shape (1,) or (n_classes,)\n",
        "\n",
        "    Intercept (a.k.a. bias) added to the decision function.  \n",
        "\n",
        "    If `fit_intercept` is set to False, the intercept is set to zero.  \n",
        "    `intercept_` is of shape (1,) when the given problem is binary.  \n",
        "    In particular, when `multi_class='multinomial'`, `intercept_`  \n",
        "    corresponds to outcome 1 (True) and `-intercept_` corresponds to  \n",
        "    outcome 0 (False).  \n",
        "n_iter_ : ndarray of shape (n_classes,) or (1, )\n",
        "\n",
        "    Actual number of iterations for all classes. If binary or multinomial,  \n",
        "    it returns only 1 element. For liblinear solver, only the maximum  \n",
        "    number of iteration across all classes is given.  \n",
        "\n",
        "\n",
        "        In SciPy  = 1.0.0 the number of lbfgs iterations may exceed  \n",
        "        `max_iter`. `n_iter_` will now report at most `max_iter`.  \n",
        "See Also\n",
        "SGDClassifier : Incrementally trained logistic regression (when given\n",
        "\n",
        "    the parameter `loss=\"log\"`).  \n",
        "LogisticRegressionCV : Logistic regression with built-in cross validation.\n",
        "\n",
        "Notes\n",
        "The underlying C implementation uses a random number generator to select features when fitting the model. It is thus not uncommon, to have slightly different results for the same input data. If that happens, try with a smaller tol parameter.\n",
        "\n",
        "Predict output may not match that of standalone liblinear in certain cases. See :ref:differences from liblinear <liblinear_differences> in the narrative documentation.\n",
        "\n",
        "References\n",
        "L-BFGS-B -- Software for Large-scale Bound-constrained Optimization\n",
        "\n",
        "    Ciyou Zhu, Richard Byrd, Jorge Nocedal and Jose Luis Morales.  \n",
        "    http://users.iems.northwestern.edu/~nocedal/lbfgsb.html  \n",
        "LIBLINEAR -- A Library for Large Linear Classification\n",
        "\n",
        "    https://www.csie.ntu.edu.tw/~cjlin/liblinear/  \n",
        "SAG -- Mark Schmidt, Nicolas Le Roux, and Francis Bach\n",
        "\n",
        "    Minimizing Finite Sums with the Stochastic Average Gradient  \n",
        "    https://hal.inria.fr/hal-00860051/document  \n",
        "SAGA -- Defazio, A., Bach F. & Lacoste-Julien S. (2014).\n",
        "\n",
        "    SAGA: A Fast Incremental Gradient Method With Support  \n",
        "    for Non-Strongly Convex Composite Objectives  \n",
        "    https://arxiv.org/abs/1407.0202  \n",
        "Hsiang-Fu Yu, Fang-Lan Huang, Chih-Jen Lin (2011). Dual coordinate descent\n",
        "\n",
        "    methods for logistic regression and maximum entropy models.  \n",
        "    Machine Learning 85(1-2):41-75.  \n",
        "    https://www.csie.ntu.edu.tw/~cjlin/papers/maxent_dual.pdf  \n",
        "Examples\n",
        "from sklearn.datasets import load_iris from sklearn.linear_model import LogisticRegression X, y = load_iris(return_X_y=True) clf = LogisticRegression(random_state=0).fit(X, y) clf.predict(X[:2, :]) array([0, 0]) clf.predict_proba(X[:2, :]) array([[9.8...e-01, 1.8...e-02, 1.4...e-08],\n",
        "\n",
        "       [9.7...e-01, 2.8...e-02, ...e-08]])  \n",
        "clf.score(X, y)\n",
        "\n",
        "0.97...  "
      ]
    },
    {
      "cell_type": "markdown",
      "metadata": {
        "id": "EcYOnOYIV_Gx",
        "colab_type": "text"
      },
      "source": [
        "### Hyperparameter Tuning\n"
      ]
    },
    {
      "cell_type": "code",
      "metadata": {
        "id": "SE96eebhWCps",
        "colab_type": "code",
        "colab": {}
      },
      "source": [
        ""
      ],
      "execution_count": null,
      "outputs": []
    }
  ]
}